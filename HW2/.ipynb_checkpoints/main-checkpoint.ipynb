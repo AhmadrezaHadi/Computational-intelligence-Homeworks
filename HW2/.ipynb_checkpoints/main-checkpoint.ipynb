{
 "cells": [
  {
   "cell_type": "code",
   "execution_count": 1,
   "id": "8de02e9b-665f-482e-9e7f-cde3312f0ea4",
   "metadata": {},
   "outputs": [],
   "source": [
    "import pandas as pd\n",
    "import numpy as np\n",
    "from sklearn.model_selection import KFold\n",
    "from sklearn.preprocessing import normalize\n",
    "import matplotlib.pyplot as plt\n",
    "from sklearn.metrics import accuracy_score"
   ]
  },
  {
   "cell_type": "code",
   "execution_count": 2,
   "id": "0bd50ab5-37b5-4d94-b15b-a708a81b048e",
   "metadata": {},
   "outputs": [
    {
     "data": {
      "text/html": [
       "<div>\n",
       "<style scoped>\n",
       "    .dataframe tbody tr th:only-of-type {\n",
       "        vertical-align: middle;\n",
       "    }\n",
       "\n",
       "    .dataframe tbody tr th {\n",
       "        vertical-align: top;\n",
       "    }\n",
       "\n",
       "    .dataframe thead th {\n",
       "        text-align: right;\n",
       "    }\n",
       "</style>\n",
       "<table border=\"1\" class=\"dataframe\">\n",
       "  <thead>\n",
       "    <tr style=\"text-align: right;\">\n",
       "      <th></th>\n",
       "      <th>1</th>\n",
       "      <th>2</th>\n",
       "      <th>3</th>\n",
       "      <th>4</th>\n",
       "      <th>5</th>\n",
       "      <th>6</th>\n",
       "      <th>7</th>\n",
       "      <th>8</th>\n",
       "      <th>9</th>\n",
       "      <th>10</th>\n",
       "      <th>...</th>\n",
       "      <th>64</th>\n",
       "      <th>65</th>\n",
       "      <th>66</th>\n",
       "      <th>67</th>\n",
       "      <th>68</th>\n",
       "      <th>69</th>\n",
       "      <th>70</th>\n",
       "      <th>71</th>\n",
       "      <th>72</th>\n",
       "      <th>73</th>\n",
       "    </tr>\n",
       "  </thead>\n",
       "  <tbody>\n",
       "    <tr>\n",
       "      <th>0</th>\n",
       "      <td>0.8</td>\n",
       "      <td>1.8</td>\n",
       "      <td>2.4</td>\n",
       "      <td>2.1</td>\n",
       "      <td>2</td>\n",
       "      <td>2.1</td>\n",
       "      <td>1.5</td>\n",
       "      <td>1.7</td>\n",
       "      <td>1.9</td>\n",
       "      <td>2.3</td>\n",
       "      <td>...</td>\n",
       "      <td>0.15</td>\n",
       "      <td>10.67</td>\n",
       "      <td>-1.56</td>\n",
       "      <td>5795</td>\n",
       "      <td>-12.1</td>\n",
       "      <td>17.9</td>\n",
       "      <td>10330</td>\n",
       "      <td>-55</td>\n",
       "      <td>0</td>\n",
       "      <td>0.0</td>\n",
       "    </tr>\n",
       "    <tr>\n",
       "      <th>1</th>\n",
       "      <td>2.8</td>\n",
       "      <td>3.2</td>\n",
       "      <td>3.3</td>\n",
       "      <td>2.7</td>\n",
       "      <td>3.3</td>\n",
       "      <td>3.2</td>\n",
       "      <td>2.9</td>\n",
       "      <td>2.8</td>\n",
       "      <td>3.1</td>\n",
       "      <td>3.4</td>\n",
       "      <td>...</td>\n",
       "      <td>0.48</td>\n",
       "      <td>8.39</td>\n",
       "      <td>3.84</td>\n",
       "      <td>5805</td>\n",
       "      <td>14.05</td>\n",
       "      <td>29</td>\n",
       "      <td>10275</td>\n",
       "      <td>-55</td>\n",
       "      <td>0</td>\n",
       "      <td>0.0</td>\n",
       "    </tr>\n",
       "    <tr>\n",
       "      <th>2</th>\n",
       "      <td>2.9</td>\n",
       "      <td>2.8</td>\n",
       "      <td>2.6</td>\n",
       "      <td>2.1</td>\n",
       "      <td>2.2</td>\n",
       "      <td>2.5</td>\n",
       "      <td>2.5</td>\n",
       "      <td>2.7</td>\n",
       "      <td>2.2</td>\n",
       "      <td>2.5</td>\n",
       "      <td>...</td>\n",
       "      <td>0.6</td>\n",
       "      <td>6.94</td>\n",
       "      <td>9.8</td>\n",
       "      <td>5790</td>\n",
       "      <td>17.9</td>\n",
       "      <td>41.3</td>\n",
       "      <td>10235</td>\n",
       "      <td>-40</td>\n",
       "      <td>0</td>\n",
       "      <td>0.0</td>\n",
       "    </tr>\n",
       "    <tr>\n",
       "      <th>3</th>\n",
       "      <td>4.7</td>\n",
       "      <td>3.8</td>\n",
       "      <td>3.7</td>\n",
       "      <td>3.8</td>\n",
       "      <td>2.9</td>\n",
       "      <td>3.1</td>\n",
       "      <td>2.8</td>\n",
       "      <td>2.5</td>\n",
       "      <td>2.4</td>\n",
       "      <td>3.1</td>\n",
       "      <td>...</td>\n",
       "      <td>0.49</td>\n",
       "      <td>8.73</td>\n",
       "      <td>10.54</td>\n",
       "      <td>5775</td>\n",
       "      <td>31.15</td>\n",
       "      <td>51.7</td>\n",
       "      <td>10195</td>\n",
       "      <td>-40</td>\n",
       "      <td>2.08</td>\n",
       "      <td>0.0</td>\n",
       "    </tr>\n",
       "    <tr>\n",
       "      <th>4</th>\n",
       "      <td>2.6</td>\n",
       "      <td>2.1</td>\n",
       "      <td>1.6</td>\n",
       "      <td>1.4</td>\n",
       "      <td>0.9</td>\n",
       "      <td>1.5</td>\n",
       "      <td>1.2</td>\n",
       "      <td>1.4</td>\n",
       "      <td>1.3</td>\n",
       "      <td>1.4</td>\n",
       "      <td>...</td>\n",
       "      <td>NaN</td>\n",
       "      <td>NaN</td>\n",
       "      <td>NaN</td>\n",
       "      <td>NaN</td>\n",
       "      <td>NaN</td>\n",
       "      <td>NaN</td>\n",
       "      <td>NaN</td>\n",
       "      <td>NaN</td>\n",
       "      <td>0.58</td>\n",
       "      <td>0.0</td>\n",
       "    </tr>\n",
       "    <tr>\n",
       "      <th>...</th>\n",
       "      <td>...</td>\n",
       "      <td>...</td>\n",
       "      <td>...</td>\n",
       "      <td>...</td>\n",
       "      <td>...</td>\n",
       "      <td>...</td>\n",
       "      <td>...</td>\n",
       "      <td>...</td>\n",
       "      <td>...</td>\n",
       "      <td>...</td>\n",
       "      <td>...</td>\n",
       "      <td>...</td>\n",
       "      <td>...</td>\n",
       "      <td>...</td>\n",
       "      <td>...</td>\n",
       "      <td>...</td>\n",
       "      <td>...</td>\n",
       "      <td>...</td>\n",
       "      <td>...</td>\n",
       "      <td>...</td>\n",
       "      <td>...</td>\n",
       "    </tr>\n",
       "    <tr>\n",
       "      <th>2531</th>\n",
       "      <td>0.3</td>\n",
       "      <td>0.4</td>\n",
       "      <td>0.5</td>\n",
       "      <td>0.5</td>\n",
       "      <td>0.2</td>\n",
       "      <td>0.3</td>\n",
       "      <td>0.4</td>\n",
       "      <td>0.4</td>\n",
       "      <td>1.3</td>\n",
       "      <td>2.2</td>\n",
       "      <td>...</td>\n",
       "      <td>0.07</td>\n",
       "      <td>7.93</td>\n",
       "      <td>-4.41</td>\n",
       "      <td>5800</td>\n",
       "      <td>-25.6</td>\n",
       "      <td>21.8</td>\n",
       "      <td>10295</td>\n",
       "      <td>65</td>\n",
       "      <td>0</td>\n",
       "      <td>0.0</td>\n",
       "    </tr>\n",
       "    <tr>\n",
       "      <th>2532</th>\n",
       "      <td>1</td>\n",
       "      <td>1.4</td>\n",
       "      <td>1.1</td>\n",
       "      <td>1.7</td>\n",
       "      <td>1.5</td>\n",
       "      <td>1.7</td>\n",
       "      <td>1.8</td>\n",
       "      <td>1.5</td>\n",
       "      <td>2.1</td>\n",
       "      <td>2.4</td>\n",
       "      <td>...</td>\n",
       "      <td>0.04</td>\n",
       "      <td>5.95</td>\n",
       "      <td>-1.14</td>\n",
       "      <td>5845</td>\n",
       "      <td>-19.4</td>\n",
       "      <td>19.1</td>\n",
       "      <td>10310</td>\n",
       "      <td>15</td>\n",
       "      <td>0</td>\n",
       "      <td>0.0</td>\n",
       "    </tr>\n",
       "    <tr>\n",
       "      <th>2533</th>\n",
       "      <td>0.8</td>\n",
       "      <td>0.8</td>\n",
       "      <td>1.2</td>\n",
       "      <td>0.9</td>\n",
       "      <td>0.4</td>\n",
       "      <td>0.6</td>\n",
       "      <td>0.8</td>\n",
       "      <td>1.1</td>\n",
       "      <td>1.5</td>\n",
       "      <td>1.5</td>\n",
       "      <td>...</td>\n",
       "      <td>0.06</td>\n",
       "      <td>7.8</td>\n",
       "      <td>-0.64</td>\n",
       "      <td>5845</td>\n",
       "      <td>-9.6</td>\n",
       "      <td>35.2</td>\n",
       "      <td>10275</td>\n",
       "      <td>-35</td>\n",
       "      <td>0</td>\n",
       "      <td>0.0</td>\n",
       "    </tr>\n",
       "    <tr>\n",
       "      <th>2534</th>\n",
       "      <td>1.3</td>\n",
       "      <td>0.9</td>\n",
       "      <td>1.5</td>\n",
       "      <td>1.2</td>\n",
       "      <td>1.6</td>\n",
       "      <td>1.8</td>\n",
       "      <td>1.1</td>\n",
       "      <td>1</td>\n",
       "      <td>1.9</td>\n",
       "      <td>2</td>\n",
       "      <td>...</td>\n",
       "      <td>0.25</td>\n",
       "      <td>7.72</td>\n",
       "      <td>-0.89</td>\n",
       "      <td>5845</td>\n",
       "      <td>-19.6</td>\n",
       "      <td>34.2</td>\n",
       "      <td>10245</td>\n",
       "      <td>-30</td>\n",
       "      <td>0.05</td>\n",
       "      <td>0.0</td>\n",
       "    </tr>\n",
       "    <tr>\n",
       "      <th>2535</th>\n",
       "      <td>1.5</td>\n",
       "      <td>1.3</td>\n",
       "      <td>1.8</td>\n",
       "      <td>1.4</td>\n",
       "      <td>1.2</td>\n",
       "      <td>1.7</td>\n",
       "      <td>1.6</td>\n",
       "      <td>1.4</td>\n",
       "      <td>1.6</td>\n",
       "      <td>3</td>\n",
       "      <td>...</td>\n",
       "      <td>0.54</td>\n",
       "      <td>13.07</td>\n",
       "      <td>9.15</td>\n",
       "      <td>5820</td>\n",
       "      <td>1.95</td>\n",
       "      <td>39.35</td>\n",
       "      <td>10220</td>\n",
       "      <td>-25</td>\n",
       "      <td>0</td>\n",
       "      <td>0.0</td>\n",
       "    </tr>\n",
       "  </tbody>\n",
       "</table>\n",
       "<p>2536 rows × 73 columns</p>\n",
       "</div>"
      ],
      "text/plain": [
       "       1    2    3    4    5    6    7    8    9    10  ...    64     65  \\\n",
       "0     0.8  1.8  2.4  2.1    2  2.1  1.5  1.7  1.9  2.3  ...  0.15  10.67   \n",
       "1     2.8  3.2  3.3  2.7  3.3  3.2  2.9  2.8  3.1  3.4  ...  0.48   8.39   \n",
       "2     2.9  2.8  2.6  2.1  2.2  2.5  2.5  2.7  2.2  2.5  ...   0.6   6.94   \n",
       "3     4.7  3.8  3.7  3.8  2.9  3.1  2.8  2.5  2.4  3.1  ...  0.49   8.73   \n",
       "4     2.6  2.1  1.6  1.4  0.9  1.5  1.2  1.4  1.3  1.4  ...   NaN    NaN   \n",
       "...   ...  ...  ...  ...  ...  ...  ...  ...  ...  ...  ...   ...    ...   \n",
       "2531  0.3  0.4  0.5  0.5  0.2  0.3  0.4  0.4  1.3  2.2  ...  0.07   7.93   \n",
       "2532    1  1.4  1.1  1.7  1.5  1.7  1.8  1.5  2.1  2.4  ...  0.04   5.95   \n",
       "2533  0.8  0.8  1.2  0.9  0.4  0.6  0.8  1.1  1.5  1.5  ...  0.06    7.8   \n",
       "2534  1.3  0.9  1.5  1.2  1.6  1.8  1.1    1  1.9    2  ...  0.25   7.72   \n",
       "2535  1.5  1.3  1.8  1.4  1.2  1.7  1.6  1.4  1.6    3  ...  0.54  13.07   \n",
       "\n",
       "         66    67     68     69     70   71    72   73  \n",
       "0     -1.56  5795  -12.1   17.9  10330  -55     0  0.0  \n",
       "1      3.84  5805  14.05     29  10275  -55     0  0.0  \n",
       "2       9.8  5790   17.9   41.3  10235  -40     0  0.0  \n",
       "3     10.54  5775  31.15   51.7  10195  -40  2.08  0.0  \n",
       "4       NaN   NaN    NaN    NaN    NaN  NaN  0.58  0.0  \n",
       "...     ...   ...    ...    ...    ...  ...   ...  ...  \n",
       "2531  -4.41  5800  -25.6   21.8  10295   65     0  0.0  \n",
       "2532  -1.14  5845  -19.4   19.1  10310   15     0  0.0  \n",
       "2533  -0.64  5845   -9.6   35.2  10275  -35     0  0.0  \n",
       "2534  -0.89  5845  -19.6   34.2  10245  -30  0.05  0.0  \n",
       "2535   9.15  5820   1.95  39.35  10220  -25     0  0.0  \n",
       "\n",
       "[2536 rows x 73 columns]"
      ]
     },
     "execution_count": 2,
     "metadata": {},
     "output_type": "execute_result"
    }
   ],
   "source": [
    "df = pd.read_csv('Ozone Level Detection.data', header=None)\n",
    "df = df.replace('?', np.nan)\n",
    "df = df.drop((0), axis=1)\n",
    "df"
   ]
  },
  {
   "cell_type": "code",
   "execution_count": 3,
   "id": "b03d2fe3-5285-4299-9d47-0e8b343e3e8e",
   "metadata": {},
   "outputs": [
    {
     "name": "stdout",
     "output_type": "stream",
     "text": [
      "Number of NaN Features: 0\n"
     ]
    }
   ],
   "source": [
    "df = df.fillna(method='ffill')\n",
    "print(f\"Number of NaN Features: {df.isnull().sum().sum()}\")"
   ]
  },
  {
   "cell_type": "code",
   "execution_count": 4,
   "id": "d8f96cad-bee4-4585-bf09-d930e1b81ef4",
   "metadata": {},
   "outputs": [
    {
     "data": {
      "text/plain": [
       "0.0    2463\n",
       "1.0      73\n",
       "Name: 73, dtype: int64"
      ]
     },
     "execution_count": 4,
     "metadata": {},
     "output_type": "execute_result"
    }
   ],
   "source": [
    "df[73].value_counts()"
   ]
  },
  {
   "cell_type": "markdown",
   "id": "9711b978-49e0-4d40-bc77-546389630c12",
   "metadata": {},
   "source": [
    "As we can see the data is imbalanced and this results in overfitting the model"
   ]
  },
  {
   "cell_type": "code",
   "execution_count": 5,
   "id": "c778482b-ee82-4f45-84f6-b4dabd009fb1",
   "metadata": {},
   "outputs": [],
   "source": [
    "# KFold\n",
    "kf = KFold(n_splits = 3, shuffle = True)\n",
    "result = next(kf.split(df), None)\n",
    "\n",
    "# Train Test Split & Normalization\n",
    "train = df.iloc[result[0]]\n",
    "train = train.reset_index().drop(('index'), axis=1)\n",
    "train = pd.concat((pd.DataFrame(normalize(train.iloc[:, :-1])), train.iloc[:, -1:]), axis=1)\n",
    "test =  df.iloc[result[1]]\n",
    "test = test.reset_index().drop(('index'), axis=1)\n",
    "test = pd.concat((pd.DataFrame(normalize(test.iloc[:, :-1])), test.iloc[:, -1:]), axis=1)\n",
    "\n",
    "x_train = train.iloc[:, :-1]\n",
    "x_test = test.iloc[:, :-1]\n",
    "y_train = train.iloc[:, -1:]\n",
    "y_test = test.iloc[:, -1:]"
   ]
  },
  {
   "cell_type": "code",
   "execution_count": 6,
   "id": "a2cb31dc-8844-4a82-955b-272baa3c6cd3",
   "metadata": {},
   "outputs": [],
   "source": [
    "def weightInitialization(n_features):\n",
    "    w = np.random.rand(1, n_features)\n",
    "    b = 0\n",
    "    return w,b\n",
    "\n",
    "def sigmoid(result):\n",
    "    final_result = 1/(1+np.exp(-result))\n",
    "    return final_result\n",
    "\n",
    "def model_optimize(w, b, X, Y):\n",
    "    m = X.shape[0]\n",
    "    \n",
    "    #Prediction\n",
    "    # print(w.shape, X.T.shape)\n",
    "    final_result = sigmoid(np.dot(w,X.T)+b)\n",
    "    Y_T = Y.T\n",
    "    cost = (-1/m)*(np.sum((Y_T*np.log(final_result)) + ((1-Y_T)*(np.log(1-final_result)))))\n",
    "    cost = np.mean(cost)\n",
    "    #\n",
    "    \n",
    "    #Gradient calculation\n",
    "    dw = (1/m)*(np.dot(X.T, (final_result-Y.T).T))\n",
    "    # print(dw.shape)\n",
    "    db = (1/m)*(np.sum(final_result-Y.T))\n",
    "    db = np.mean(db)\n",
    "    # print(db)\n",
    "    grads = {\"dw\": dw, \"db\": db}\n",
    "    \n",
    "    return grads, cost\n",
    "\n",
    "def model_predict(w, b, X, Y, learning_rate, no_iterations):\n",
    "    costs = []\n",
    "    for i in range(no_iterations):\n",
    "        #\n",
    "        grads, cost = model_optimize(w,b,X,Y)\n",
    "        #\n",
    "        dw = grads[\"dw\"]\n",
    "        db = grads[\"db\"]\n",
    "        #weight update\n",
    "        w = w - (learning_rate * (dw.T))\n",
    "        b = b - (learning_rate * db)\n",
    "        # print(w.shape)\n",
    "        # print(b.shape)\n",
    "        #\n",
    "        \n",
    "        if (i % 10 == 0):\n",
    "            costs.append(cost)\n",
    "            #print(\"Cost after %i iteration is %f\" %(i, cost))\n",
    "    \n",
    "    #final parameters\n",
    "    coeff = {\"w\": w, \"b\": b}\n",
    "    gradient = {\"dw\": dw, \"db\": db}\n",
    "    \n",
    "    return coeff, gradient, costs\n",
    "\n",
    "def predict(final_pred, m):\n",
    "    y_pred = np.zeros((1,m))\n",
    "    for i in range(final_pred.shape[1]):\n",
    "        if final_pred[0][i] > 0.5:\n",
    "            y_pred[0][i] = 1\n",
    "    return y_pred"
   ]
  },
  {
   "cell_type": "code",
   "execution_count": 7,
   "id": "be44cc94-edbb-4876-abf0-70e5b6155732",
   "metadata": {},
   "outputs": [],
   "source": [
    "w, b = weightInitialization(x_train.shape[1])\n",
    "\n",
    "coeff, gradient, costs = model_predict(w, b, x_train, y_train, 0.01, 700)\n",
    "    "
   ]
  },
  {
   "cell_type": "code",
   "execution_count": 8,
   "id": "0afea0c1-b167-4541-b778-f1dfeb09258c",
   "metadata": {},
   "outputs": [
    {
     "data": {
      "image/png": "[encoded data removed]",
      "text/plain": [
       "<Figure size 432x288 with 1 Axes>"
      ]
     },
     "metadata": {
      "needs_background": "light"
     },
     "output_type": "display_data"
    }
   ],
   "source": [
    "plt.plot(costs);"
   ]
  },
  {
   "cell_type": "code",
   "execution_count": 9,
   "id": "1ef9dfac-90c2-4f71-9fc9-1bee346f9ac2",
   "metadata": {},
   "outputs": [],
   "source": [
    "def predict(final_pred, m):\n",
    "    y_pred = np.zeros((1,m))\n",
    "    for i in range(final_pred.shape[1]):\n",
    "        if final_pred[0][i] > 0.5:\n",
    "            y_pred[0][i] = 1\n",
    "    return y_pred"
   ]
  },
  {
   "cell_type": "code",
   "execution_count": 10,
   "id": "eda67a5f-706e-48da-8f9c-d0a9e0da6a24",
   "metadata": {},
   "outputs": [
    {
     "name": "stdout",
     "output_type": "stream",
     "text": [
      "Optimized weights [[ 0.27371062  0.26513033  0.07441815  0.63448651  0.10780167  0.76717282\n",
      "   0.88517031  0.05128982  0.95503117  0.39035038  0.15940478  0.41090336\n",
      "   0.36217741  0.16242316  0.61675545  0.05720983  0.77024948  0.16578698\n",
      "   0.73596453  0.98265156  0.08177781  0.83036924  0.29160728  0.124574\n",
      "   0.03245776  0.78982882  0.49193914  0.90800714  0.54537964  0.77876458\n",
      "   0.52802797  0.62941389  0.60271268  0.37233614  0.98671272  0.09185501\n",
      "   0.80681768  0.72314937  0.40305764  0.65385093  0.55623699  0.21458738\n",
      "   0.41286271  0.56408256  0.66273178  0.0273314   0.463916    0.65824646\n",
      "   0.04853019 -0.00163606  0.02571297  0.87681722  0.49959796  0.04758464\n",
      "   0.51150408  0.30806378  0.16231483  0.31182017  0.13305014  0.27933527\n",
      "   0.4953968  -0.29121481  0.0457624   0.54272836  0.17525515  0.3620671\n",
      "  -0.72870687  0.97429859  0.72442712 -1.41348343  0.48508287  0.59166866]]\n",
      "Optimized intercept -0.0012962647656191532\n",
      "Training Accuracy 0.9733727810650887\n",
      "Test Accuracy 0.966903073286052\n"
     ]
    }
   ],
   "source": [
    "w = coeff[\"w\"]\n",
    "b = coeff[\"b\"]\n",
    "print('Optimized weights', w)\n",
    "print('Optimized intercept',b)\n",
    "#\n",
    "final_train_pred = sigmoid(np.dot(w,x_train.T)+b)\n",
    "final_test_pred = sigmoid(np.dot(w,x_test.T)+b)\n",
    "#\n",
    "m_tr =  x_train.shape[0]\n",
    "m_ts =  x_test.shape[0]\n",
    "#\n",
    "y_tr_pred = predict(final_train_pred, m_tr)\n",
    "print('Training Accuracy',accuracy_score(y_tr_pred.T, y_train))\n",
    "#\n",
    "y_ts_pred = predict(final_test_pred, m_ts)\n",
    "print('Test Accuracy',accuracy_score(y_ts_pred.T, y_test))"
   ]
  },
  {
   "cell_type": "code",
   "execution_count": 11,
   "id": "6ec069c0-ea01-4259-9ede-36fd157326f2",
   "metadata": {},
   "outputs": [
    {
     "name": "stdout",
     "output_type": "stream",
     "text": [
      "[-3.59912986] [[-0.00309481 -0.00310093 -0.00312999 -0.00298752 -0.00265401 -0.00247669\n",
      "  -0.00278036 -0.00275646 -0.00305357 -0.00419111 -0.00459358 -0.00498411\n",
      "  -0.00571492 -0.00524775 -0.00421301 -0.00314372 -0.00187502 -0.00035669\n",
      "  -0.0003333  -0.00054838 -0.00074022 -0.00135303 -0.00162303 -0.00181865\n",
      "  -0.00293367 -0.00273451  0.01140853  0.01081971  0.0103708   0.00979575\n",
      "   0.00935296  0.00933097  0.0103367   0.01386318  0.017263    0.0193649\n",
      "   0.02089473  0.02228242  0.02362815  0.02456985  0.02538234  0.02596616\n",
      "   0.0252773   0.02403709  0.02204461  0.02027643  0.01870929  0.01733087\n",
      "   0.01622985  0.01557839  0.02369167  0.01769343  0.01378012 -0.00030175\n",
      "  -0.00923836 -0.00922038  0.03019632  0.00900228 -0.00028053 -0.01489736\n",
      "  -0.01225534  0.08680869  0.00882285 -0.00051764 -0.02186509 -0.0143766\n",
      "   0.15958324  0.00123937  0.00102051 -0.12341533  0.0123765  -0.00114156]]\n"
     ]
    },
    {
     "name": "stderr",
     "output_type": "stream",
     "text": [
      "C:\\Users\\Asus\\AppData\\Local\\Programs\\Python\\Python39\\lib\\site-packages\\sklearn\\utils\\validation.py:985: DataConversionWarning: A column-vector y was passed when a 1d array was expected. Please change the shape of y to (n_samples, ), for example using ravel().\n",
      "  y = column_or_1d(y, warn=True)\n"
     ]
    }
   ],
   "source": [
    "from sklearn.linear_model import LogisticRegression\n",
    "clf = LogisticRegression()\n",
    "clf.fit(x_train, y_train)\n",
    "print (clf.intercept_, clf.coef_)"
   ]
  },
  {
   "cell_type": "code",
   "execution_count": 12,
   "id": "a5e43b78-f1b4-4320-80ae-782d51d7b685",
   "metadata": {},
   "outputs": [],
   "source": [
    "pred = clf.predict(x_test)"
   ]
  },
  {
   "cell_type": "code",
   "execution_count": 13,
   "id": "4ae42c09-2316-4589-86fc-f82f6f17805a",
   "metadata": {},
   "outputs": [
    {
     "name": "stdout",
     "output_type": "stream",
     "text": [
      "Accuracy from sk-learn: 0.966903073286052\n"
     ]
    }
   ],
   "source": [
    "print ('Accuracy from sk-learn: {0}'.format(clf.score(x_test, y_test)))"
   ]
  },
  {
   "cell_type": "markdown",
   "id": "0b5781e7-b524-4f98-8f71-1eb7f21fa0de",
   "metadata": {},
   "source": [
    "The data is imbalanced and this results in overfitting "
   ]
  },
  {
   "cell_type": "code",
   "execution_count": 14,
   "id": "4be0a86b-e68a-4bff-b65b-b4f1e7237f44",
   "metadata": {},
   "outputs": [],
   "source": [
    "import torch"
   ]
  },
  {
   "cell_type": "code",
   "execution_count": 15,
   "id": "6cd8b843-4f51-4d0d-85bf-127650eb8f0b",
   "metadata": {},
   "outputs": [],
   "source": [
    "class Model(torch.nn.Module):\n",
    "    def __init__(self, input_size, hidden_size):\n",
    "        super(Model, self).__init__()\n",
    "        self.input_size = input_size\n",
    "        self.hidden_size = hidden_size\n",
    "        self.fc1 = torch.nn.Linear(self.input_size, self.hidden_size)\n",
    "        self.relu = torch.nn.ReLU()\n",
    "        self.fc2 = torch.nn.Linear(self.hidden_size, 1)\n",
    "        self.sigmoid = torch.nn.Sigmoid()\n",
    "        \n",
    "    def forward(self, x):\n",
    "        output = self.fc1(x)\n",
    "        output = self.relu(output)\n",
    "        output = self.fc2(output)\n",
    "        output = self.sigmoid(output)\n",
    "        \n",
    "        return output"
   ]
  },
  {
   "cell_type": "code",
   "execution_count": 16,
   "id": "7363a9aa-35c4-4fe3-b8dd-cd15698255d5",
   "metadata": {},
   "outputs": [],
   "source": [
    "if torch.cuda.is_available():\n",
    "    device = torch.device('cuda:0')\n",
    "else:\n",
    "    device = torch.device('cpu')\n",
    "\n",
    "x_train = torch.FloatTensor(x_train.to_numpy())\n",
    "x_test = torch.FloatTensor(x_test.to_numpy())\n",
    "y_train = torch.FloatTensor(y_train.to_numpy())\n",
    "y_test = torch.FloatTensor(y_test.to_numpy())\n",
    "\n",
    "x_train.to(device)\n",
    "y_test.to(device)\n",
    "y_train.to(device)\n",
    "y_test.to(device);"
   ]
  },
  {
   "cell_type": "code",
   "execution_count": 17,
   "id": "2c511621-bc18-4ef5-92f7-031445e6cbca",
   "metadata": {},
   "outputs": [],
   "source": [
    "model = Model(72, 5)\n",
    "criterion = torch.nn.BCELoss()\n",
    "optimizer = torch.optim.Adam(model.parameters(), lr=0.01)"
   ]
  },
  {
   "cell_type": "code",
   "execution_count": 18,
   "id": "74f23654-6be9-43a1-a1d3-413443a40dfd",
   "metadata": {},
   "outputs": [
    {
     "name": "stdout",
     "output_type": "stream",
     "text": [
      "Test loss before training 0.7633891105651855\n"
     ]
    }
   ],
   "source": [
    "model.eval()\n",
    "y_pred = model(x_test)\n",
    "before_train = criterion(y_pred, y_test)\n",
    "print('Test loss before training' , before_train.item())"
   ]
  },
  {
   "cell_type": "code",
   "execution_count": 19,
   "id": "fccaca88-d732-492b-92c5-572ed04d9eba",
   "metadata": {},
   "outputs": [
    {
     "name": "stdout",
     "output_type": "stream",
     "text": [
      "Epoch 0: train loss: 0.7643254995346069\n",
      "Epoch 10: train loss: 0.709693193435669\n",
      "Epoch 20: train loss: 0.6632452607154846\n",
      "Epoch 30: train loss: 0.619951069355011\n",
      "Epoch 40: train loss: 0.5798963904380798\n",
      "Epoch 50: train loss: 0.5430321097373962\n",
      "Epoch 60: train loss: 0.5092223286628723\n",
      "Epoch 70: train loss: 0.478284627199173\n",
      "Epoch 80: train loss: 0.4500162899494171\n",
      "Epoch 90: train loss: 0.4242108166217804\n",
      "Epoch 100: train loss: 0.4006653428077698\n",
      "Epoch 110: train loss: 0.3791855573654175\n",
      "Epoch 120: train loss: 0.3595889210700989\n",
      "Epoch 130: train loss: 0.34170448780059814\n",
      "Epoch 140: train loss: 0.3253748118877411\n",
      "Epoch 150: train loss: 0.31045493483543396\n",
      "Epoch 160: train loss: 0.2968125343322754\n",
      "Epoch 170: train loss: 0.2843274176120758\n",
      "Epoch 180: train loss: 0.2728902995586395\n",
      "Epoch 190: train loss: 0.26240256428718567\n"
     ]
    }
   ],
   "source": [
    "model.train()\n",
    "epoch = 200\n",
    "costs = []\n",
    "for epoch in range(epoch):    \n",
    "    optimizer.zero_grad()   \n",
    "    y_pred = model(x_train)   \n",
    "    loss = criterion(y_pred, y_train)\n",
    "    costs.append(loss.item())\n",
    "    if epoch%10 == 0:\n",
    "        print('Epoch {}: train loss: {}'.format(epoch, loss.item()))\n",
    "    loss.backward()\n",
    "    optimizer.step()"
   ]
  },
  {
   "cell_type": "code",
   "execution_count": 20,
   "id": "dfbb44c5-84c9-4256-8a03-51f15f69f0b3",
   "metadata": {},
   "outputs": [
    {
     "data": {
      "image/png": "[encoded data removed]",
      "text/plain": [
       "<Figure size 432x288 with 1 Axes>"
      ]
     },
     "metadata": {
      "needs_background": "light"
     },
     "output_type": "display_data"
    }
   ],
   "source": [
    "plt.plot(costs);"
   ]
  },
  {
   "cell_type": "code",
   "execution_count": 21,
   "id": "1cc0afc1-4d3f-4214-bcf1-30f9d50c2ff3",
   "metadata": {},
   "outputs": [
    {
     "name": "stdout",
     "output_type": "stream",
     "text": [
      "Test loss after Training 0.2620210349559784\n",
      "Accuracy of the Model after training 96.69030904769897\n"
     ]
    }
   ],
   "source": [
    "model.eval()\n",
    "y_pred = model(x_test)\n",
    "after_train = criterion(y_pred, y_test) \n",
    "print('Test loss after Training' , after_train.item())\n",
    "y_pred = (y_pred > 0.5).float()\n",
    "accuracy = ((y_pred == y_test).sum() / y_pred.shape[0]).item() * 100\n",
    "print('Accuracy of the Model after training', accuracy)"
   ]
  },
  {
   "cell_type": "code",
   "execution_count": 22,
   "id": "01f8560a-8a82-42bd-af25-2d5cc15d2861",
   "metadata": {},
   "outputs": [],
   "source": [
    "model = Model(72, 5)\n",
    "criterion = torch.nn.BCELoss()\n",
    "optimizer = torch.optim.SGD(model.parameters(), lr=1)"
   ]
  },
  {
   "cell_type": "code",
   "execution_count": 23,
   "id": "e3ffe0cf-f51e-47ef-8972-2cc700b4cf0f",
   "metadata": {},
   "outputs": [
    {
     "name": "stdout",
     "output_type": "stream",
     "text": [
      "Test loss before training 0.6033753156661987\n"
     ]
    }
   ],
   "source": [
    "model.eval()\n",
    "y_pred = model(x_test)\n",
    "before_train = criterion(y_pred, y_test)\n",
    "print('Test loss before training' , before_train.item())"
   ]
  },
  {
   "cell_type": "code",
   "execution_count": 24,
   "id": "1ba686ce-3c31-4bbc-8a97-e87ce74edcb4",
   "metadata": {},
   "outputs": [
    {
     "name": "stdout",
     "output_type": "stream",
     "text": [
      "Epoch 0: train loss: 0.6020575165748596\n",
      "Epoch 10: train loss: 0.1263091117143631\n",
      "Epoch 20: train loss: 0.12287624925374985\n",
      "Epoch 30: train loss: 0.12281299382448196\n",
      "Epoch 40: train loss: 0.12281125783920288\n",
      "Epoch 50: train loss: 0.12281091511249542\n",
      "Epoch 60: train loss: 0.12281061708927155\n",
      "Epoch 70: train loss: 0.12281031906604767\n",
      "Epoch 80: train loss: 0.1228100135922432\n",
      "Epoch 90: train loss: 0.12280971556901932\n",
      "Epoch 100: train loss: 0.12280941009521484\n",
      "Epoch 110: train loss: 0.12280911207199097\n",
      "Epoch 120: train loss: 0.12280881404876709\n",
      "Epoch 130: train loss: 0.12280850112438202\n",
      "Epoch 140: train loss: 0.12280820310115814\n",
      "Epoch 150: train loss: 0.12280789762735367\n",
      "Epoch 160: train loss: 0.12280759960412979\n",
      "Epoch 170: train loss: 0.12280729413032532\n",
      "Epoch 180: train loss: 0.12280698865652084\n",
      "Epoch 190: train loss: 0.12280670553445816\n"
     ]
    }
   ],
   "source": [
    "model.train()\n",
    "epoch = 200\n",
    "costs = []\n",
    "for epoch in range(epoch):    \n",
    "    optimizer.zero_grad()   \n",
    "    y_pred = model(x_train)   \n",
    "    loss = criterion(y_pred, y_train)\n",
    "    costs.append(loss.item())\n",
    "    if epoch%10 == 0:\n",
    "        print('Epoch {}: train loss: {}'.format(epoch, loss.item()))\n",
    "    loss.backward()\n",
    "    optimizer.step()"
   ]
  },
  {
   "cell_type": "code",
   "execution_count": 25,
   "id": "5960d3db-7bc2-4ecb-b548-c9e0b43ae2de",
   "metadata": {},
   "outputs": [
    {
     "data": {
      "image/png": "[encoded data removed]",
      "text/plain": [
       "<Figure size 432x288 with 1 Axes>"
      ]
     },
     "metadata": {
      "needs_background": "light"
     },
     "output_type": "display_data"
    }
   ],
   "source": [
    "plt.plot(costs);"
   ]
  },
  {
   "cell_type": "code",
   "execution_count": 26,
   "id": "c17d18c8-1ade-4a36-ba3f-c87adec16f7f",
   "metadata": {},
   "outputs": [],
   "source": [
    "model = Model(72, 5)\n",
    "criterion = torch.nn.BCELoss()\n",
    "optimizer = torch.optim.SGD(model.parameters(), lr=10)"
   ]
  },
  {
   "cell_type": "code",
   "execution_count": 27,
   "id": "f21061db-4894-4606-b32e-7de5cde94cce",
   "metadata": {},
   "outputs": [
    {
     "name": "stdout",
     "output_type": "stream",
     "text": [
      "Test loss before training 0.6909753084182739\n"
     ]
    }
   ],
   "source": [
    "model.eval()\n",
    "y_pred = model(x_test)\n",
    "before_train = criterion(y_pred, y_test)\n",
    "print('Test loss before training' , before_train.item())"
   ]
  },
  {
   "cell_type": "code",
   "execution_count": 28,
   "id": "52343e82-0c00-4a6d-bede-5794d94007b9",
   "metadata": {},
   "outputs": [
    {
     "name": "stdout",
     "output_type": "stream",
     "text": [
      "Epoch 0: train loss: 0.6909422278404236\n",
      "Epoch 10: train loss: 0.12284279614686966\n",
      "Epoch 20: train loss: 0.12282151728868484\n",
      "Epoch 30: train loss: 0.1228179782629013\n",
      "Epoch 40: train loss: 0.12281706929206848\n",
      "Epoch 50: train loss: 0.12281657755374908\n",
      "Epoch 60: train loss: 0.12281611561775208\n",
      "Epoch 70: train loss: 0.12281568348407745\n",
      "Epoch 80: train loss: 0.12281522154808044\n",
      "Epoch 90: train loss: 0.12281478941440582\n",
      "Epoch 100: train loss: 0.12281434237957001\n",
      "Epoch 110: train loss: 0.1228138878941536\n",
      "Epoch 120: train loss: 0.12281343340873718\n",
      "Epoch 130: train loss: 0.12281296402215958\n",
      "Epoch 140: train loss: 0.12281250953674316\n",
      "Epoch 150: train loss: 0.12281205505132675\n",
      "Epoch 160: train loss: 0.12281157076358795\n",
      "Epoch 170: train loss: 0.12281110137701035\n",
      "Epoch 180: train loss: 0.12281061708927155\n",
      "Epoch 190: train loss: 0.12281012535095215\n"
     ]
    }
   ],
   "source": [
    "model.train()\n",
    "epoch = 200\n",
    "costs = []\n",
    "for epoch in range(epoch):    \n",
    "    optimizer.zero_grad()   \n",
    "    y_pred = model(x_train)   \n",
    "    loss = criterion(y_pred, y_train)\n",
    "    costs.append(loss.item())\n",
    "    if epoch%10 == 0:\n",
    "        print('Epoch {}: train loss: {}'.format(epoch, loss.item()))\n",
    "    loss.backward()\n",
    "    optimizer.step()"
   ]
  },
  {
   "cell_type": "code",
   "execution_count": 29,
   "id": "af8e848c-72e0-4009-8ac3-39c4fec6877f",
   "metadata": {},
   "outputs": [
    {
     "data": {
      "image/png": "[encoded data removed]",
      "text/plain": [
       "<Figure size 432x288 with 1 Axes>"
      ]
     },
     "metadata": {
      "needs_background": "light"
     },
     "output_type": "display_data"
    }
   ],
   "source": [
    "plt.plot(costs);"
   ]
  },
  {
   "cell_type": "markdown",
   "id": "9b1613a4-16e1-4016-91f4-a2c0cdd5ce69",
   "metadata": {},
   "source": [
    "با عوض کردن لرنینگ ریت مدل سریع تر دیتا را یاد میگیرد (با توجه به بالانس نبودن دیتا این کار لزوما کار درستی نمیباشد)"
   ]
  }
 ],
 "metadata": {
  "kernelspec": {
   "display_name": "Python 3 (ipykernel)",
   "language": "python",
   "name": "python3"
  },
  "language_info": {
   "codemirror_mode": {
    "name": "ipython",
    "version": 3
   },
   "file_extension": ".py",
   "mimetype": "text/x-python",
   "name": "python",
   "nbconvert_exporter": "python",
   "pygments_lexer": "ipython3",
   "version": "3.9.7"
  }
 },
 "nbformat": 4,
 "nbformat_minor": 5
}
