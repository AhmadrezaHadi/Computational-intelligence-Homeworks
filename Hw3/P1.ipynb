{
 "cells": [
  {
   "cell_type": "code",
   "execution_count": 1,
   "id": "c06e018a-0fd4-4739-9085-257ea20e41c8",
   "metadata": {},
   "outputs": [],
   "source": [
    "import torch\n",
    "import numpy as np\n",
    "import torch.nn as nn\n",
    "import torch.optim as optim\n",
    "import torch.nn.functional as F\n",
    "import pandas as pd\n",
    "import matplotlib.pyplot as plt\n",
    "from torchvision import datasets, transforms\n",
    "from torch.utils.data.sampler import SubsetRandomSampler"
   ]
  },
  {
   "cell_type": "code",
   "execution_count": 2,
   "id": "877fd25f-a323-4d23-909d-b01c557e3f08",
   "metadata": {},
   "outputs": [],
   "source": [
    "transform = transforms.Compose([transforms.ToTensor(),\n",
    "                               transforms.Normalize((0.5,), (0.5,),)])"
   ]
  },
  {
   "cell_type": "code",
   "execution_count": 7,
   "id": "5bd5b50e-3f48-42b3-921c-020c1da1daec",
   "metadata": {},
   "outputs": [],
   "source": [
    "trainset = datasets.FashionMNIST('x', download=False, train=True, transform=transform)\n",
    "testset = datasets.FashionMNIST('x', download=False, train=False, transform=transform)"
   ]
  },
  {
   "cell_type": "code",
   "execution_count": null,
   "id": "4e8cfdc1-254a-4f94-a70b-5b4273486182",
   "metadata": {},
   "outputs": [],
   "source": []
  }
 ],
 "metadata": {
  "kernelspec": {
   "display_name": "Python 3 (ipykernel)",
   "language": "python",
   "name": "python3"
  },
  "language_info": {
   "codemirror_mode": {
    "name": "ipython",
    "version": 3
   },
   "file_extension": ".py",
   "mimetype": "text/x-python",
   "name": "python",
   "nbconvert_exporter": "python",
   "pygments_lexer": "ipython3",
   "version": "3.9.7"
  }
 },
 "nbformat": 4,
 "nbformat_minor": 5
}
